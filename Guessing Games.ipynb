{
 "cells": [
  {
   "cell_type": "code",
   "execution_count": 1,
   "id": "58caeb3a",
   "metadata": {},
   "outputs": [],
   "source": [
    "import random"
   ]
  },
  {
   "cell_type": "code",
   "execution_count": 2,
   "id": "454bc009",
   "metadata": {},
   "outputs": [],
   "source": [
    "num = random.randint(1,100)"
   ]
  },
  {
   "cell_type": "code",
   "execution_count": 3,
   "id": "6c62fb3d",
   "metadata": {},
   "outputs": [],
   "source": [
    "guesses = [0]"
   ]
  },
  {
   "cell_type": "code",
   "execution_count": 4,
   "id": "281eda2e",
   "metadata": {},
   "outputs": [
    {
     "name": "stdout",
     "output_type": "stream",
     "text": [
      "WELCOME TO GUESS ME!\n",
      "I'm thinking of a number between 1 and 100\n",
      "If your guess is more than 10 away from my number, I'll tell you you're COLD\n",
      "If your guess is within 10 of my number, I'll tell you you're WARM\n",
      "If your guess is farther than your most recent guess, I'll say you're getting COLDER\n",
      "If your guess is closer than your most recent guess, I'll say you're getting WARMER\n",
      "LET'S PLAY!\n"
     ]
    }
   ],
   "source": [
    "print(\"WELCOME TO GUESS ME!\")\n",
    "print(\"I'm thinking of a number between 1 and 100\")\n",
    "print(\"If your guess is more than 10 away from my number, I'll tell you you're COLD\")\n",
    "print(\"If your guess is within 10 of my number, I'll tell you you're WARM\")\n",
    "print(\"If your guess is farther than your most recent guess, I'll say you're getting COLDER\")\n",
    "print(\"If your guess is closer than your most recent guess, I'll say you're getting WARMER\")\n",
    "print(\"LET'S PLAY!\")"
   ]
  },
  {
   "cell_type": "code",
   "execution_count": null,
   "id": "17fd7dcf",
   "metadata": {},
   "outputs": [
    {
     "name": "stdout",
     "output_type": "stream",
     "text": [
      "I'm thinking of a number between 1 and 100.\n",
      "  Take a guess! 99\n",
      "COLD!\n",
      "I'm thinking of a number between 1 and 100.\n",
      "  Take a guess! 78\n",
      "WARMER!\n",
      "I'm thinking of a number between 1 and 100.\n",
      "  Take a guess! 75\n",
      "WARMER!\n",
      "I'm thinking of a number between 1 and 100.\n",
      "  Take a guess! 72\n",
      "WARMER!\n",
      "I'm thinking of a number between 1 and 100.\n",
      "  Take a guess! 71\n",
      "WARMER!\n",
      "I'm thinking of a number between 1 and 100.\n",
      "  Take a guess! 69\n",
      "WARMER!\n",
      "I'm thinking of a number between 1 and 100.\n",
      "  Take a guess! 67\n",
      "WARMER!\n",
      "I'm thinking of a number between 1 and 100.\n",
      "  Take a guess! 65\n",
      "WARMER!\n",
      "I'm thinking of a number between 1 and 100.\n",
      "  Take a guess! 63\n",
      "WARMER!\n",
      "I'm thinking of a number between 1 and 100.\n",
      "  Take a guess! 60\n",
      "WARMER!\n",
      "I'm thinking of a number between 1 and 100.\n",
      "  Take a guess! 68\n",
      "COLDER!\n",
      "I'm thinking of a number between 1 and 100.\n",
      "  Take a guess! 70\n",
      "COLDER!\n",
      "I'm thinking of a number between 1 and 100.\n",
      "  Take a guess! 52\n",
      "WARMER!\n",
      "I'm thinking of a number between 1 and 100.\n",
      "  Take a guess! 42\n",
      "WARMER!\n",
      "I'm thinking of a number between 1 and 100.\n",
      "  Take a guess! 32\n",
      "WARMER!\n",
      "I'm thinking of a number between 1 and 100.\n",
      "  Take a guess! 22\n",
      "WARMER!\n",
      "I'm thinking of a number between 1 and 100.\n",
      "  Take a guess! 21\n",
      "COLDER!\n",
      "I'm thinking of a number between 1 and 100.\n",
      "  Take a guess! 225\n",
      "OUT OF BOUNDS! Please try again: \n",
      "I'm thinking of a number between 1 and 100.\n",
      "  Take a guess! 25\n",
      "WARMER!\n",
      "I'm thinking of a number between 1 and 100.\n",
      "  Take a guess! 26\n",
      "COLDER!\n"
     ]
    }
   ],
   "source": [
    "while True:\n",
    "    \n",
    "    guess = int(input(\"I'm thinking of a number between 1 and 100.\\n  Take a guess! \"))\n",
    "    \n",
    "    if guess < 1 or guess > 100:\n",
    "        print('OUT OF BOUNDS! Please try again: ')\n",
    "        continue\n",
    "        \n",
    "    if guess == num:\n",
    "        print(f'Congratulations, you guessed it in {len(guesses)} attempts!')\n",
    "        break\n",
    "    \n",
    "    guesses.append(guess)\n",
    "    if guesses[-2]:  \n",
    "        if abs(num-guess) < abs(num-guesses[-2]):\n",
    "            print('WARMER!')\n",
    "        else:\n",
    "            print('COLDER!')\n",
    "   \n",
    "    else:\n",
    "        if abs(num-guess) <= 10:\n",
    "            print('WARM!')\n",
    "        else:\n",
    "            print('COLD!')\n",
    "            \n",
    "    "
   ]
  },
  {
   "cell_type": "code",
   "execution_count": null,
   "id": "534dadfa",
   "metadata": {},
   "outputs": [],
   "source": []
  }
 ],
 "metadata": {
  "kernelspec": {
   "display_name": "Python 3 (ipykernel)",
   "language": "python",
   "name": "python3"
  },
  "language_info": {
   "codemirror_mode": {
    "name": "ipython",
    "version": 3
   },
   "file_extension": ".py",
   "mimetype": "text/x-python",
   "name": "python",
   "nbconvert_exporter": "python",
   "pygments_lexer": "ipython3",
   "version": "3.9.7"
  }
 },
 "nbformat": 4,
 "nbformat_minor": 5
}
