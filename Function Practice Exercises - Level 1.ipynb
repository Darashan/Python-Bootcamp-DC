{
 "cells": [
  {
   "cell_type": "markdown",
   "id": "d3a553a0",
   "metadata": {},
   "source": [
    "OLD MACDONALD: Write a function that capitalizes the first and fourth letters of a name"
   ]
  },
  {
   "cell_type": "code",
   "execution_count": 10,
   "id": "3fddba0e",
   "metadata": {},
   "outputs": [],
   "source": [
    "def old_macdonald(name):\n",
    "    old_name = list(name)\n",
    "    old_name[0] = old_name[0].upper()\n",
    "    old_name[3] = old_name[3].upper()\n",
    "    new_name = \"\"\n",
    "    new_name = new_name.join(old_name)\n",
    "    print(new_name)"
   ]
  },
  {
   "cell_type": "code",
   "execution_count": 11,
   "id": "29506d8e",
   "metadata": {},
   "outputs": [
    {
     "name": "stdout",
     "output_type": "stream",
     "text": [
      "DarAshan\n"
     ]
    }
   ],
   "source": [
    "old_macdonald('darashan')"
   ]
  },
  {
   "cell_type": "markdown",
   "id": "143bf89c",
   "metadata": {},
   "source": [
    "MASTER YODA: Given a sentence, return a sentence with the words reversed"
   ]
  },
  {
   "cell_type": "code",
   "execution_count": null,
   "id": "a5444faf",
   "metadata": {},
   "outputs": [],
   "source": [
    "def master_yoda"
   ]
  },
  {
   "cell_type": "code",
   "execution_count": 11,
   "id": "2bc012ab",
   "metadata": {},
   "outputs": [],
   "source": [
    "def master_yoda(words):\n",
    "    new_words = words.split()\n",
    "    new_words_list = new_words[::-1]\n",
    "    return \" \".join(new_words_list)"
   ]
  },
  {
   "cell_type": "code",
   "execution_count": 12,
   "id": "09f0c3f8",
   "metadata": {},
   "outputs": [
    {
     "data": {
      "text/plain": [
       "'you to me Hello'"
      ]
     },
     "execution_count": 12,
     "metadata": {},
     "output_type": "execute_result"
    }
   ],
   "source": [
    "master_yoda('Hello me to you')"
   ]
  },
  {
   "cell_type": "markdown",
   "id": "68f9a248",
   "metadata": {},
   "source": [
    "ALMOST THERE: Given an integer n, return True if n is within 10 of either 100 or 200"
   ]
  },
  {
   "cell_type": "code",
   "execution_count": 55,
   "id": "919fbe73",
   "metadata": {},
   "outputs": [],
   "source": [
    "def almost_there(num):\n",
    "    num = abs(num)\n",
    "    if num >= 90 and num <= 110:\n",
    "        return True\n",
    "    elif num >= 190 and num <= 210:\n",
    "        return True\n",
    "    else:\n",
    "        return False"
   ]
  },
  {
   "cell_type": "code",
   "execution_count": 56,
   "id": "5e914360",
   "metadata": {},
   "outputs": [
    {
     "data": {
      "text/plain": [
       "False"
      ]
     },
     "execution_count": 56,
     "metadata": {},
     "output_type": "execute_result"
    }
   ],
   "source": [
    "almost_there(87)"
   ]
  },
  {
   "cell_type": "code",
   "execution_count": 58,
   "id": "20131d8d",
   "metadata": {},
   "outputs": [
    {
     "data": {
      "text/plain": [
       "True"
      ]
     },
     "execution_count": 58,
     "metadata": {},
     "output_type": "execute_result"
    }
   ],
   "source": [
    "almost_there(198.9)"
   ]
  },
  {
   "cell_type": "code",
   "execution_count": null,
   "id": "e76e945c",
   "metadata": {},
   "outputs": [],
   "source": []
  }
 ],
 "metadata": {
  "kernelspec": {
   "display_name": "Python 3 (ipykernel)",
   "language": "python",
   "name": "python3"
  },
  "language_info": {
   "codemirror_mode": {
    "name": "ipython",
    "version": 3
   },
   "file_extension": ".py",
   "mimetype": "text/x-python",
   "name": "python",
   "nbconvert_exporter": "python",
   "pygments_lexer": "ipython3",
   "version": "3.9.7"
  }
 },
 "nbformat": 4,
 "nbformat_minor": 5
}
