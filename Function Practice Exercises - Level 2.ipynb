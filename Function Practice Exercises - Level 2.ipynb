{
 "cells": [
  {
   "cell_type": "markdown",
   "id": "b19573c3",
   "metadata": {},
   "source": [
    "Function Practice Exercises - Level 2:"
   ]
  },
  {
   "cell_type": "markdown",
   "id": "d41729ff",
   "metadata": {},
   "source": [
    "FIND 33:\n",
    "Given a list of ints, return True if the array contains a 3 next to a 3 somewhere."
   ]
  },
  {
   "cell_type": "code",
   "execution_count": 33,
   "id": "10eb80e5",
   "metadata": {},
   "outputs": [],
   "source": [
    "def has_33(nums):\n",
    "    for i in range(len(nums)-1):\n",
    "        if nums[i] == 3 and nums[i+1] == 3:\n",
    "            return True\n",
    "        else:\n",
    "            pass\n",
    "    return False\n",
    "#         i += 1"
   ]
  },
  {
   "cell_type": "code",
   "execution_count": 30,
   "id": "7da9427f",
   "metadata": {},
   "outputs": [
    {
     "name": "stdout",
     "output_type": "stream",
     "text": [
      "[3, 3, 1] 0\n"
     ]
    },
    {
     "data": {
      "text/plain": [
       "True"
      ]
     },
     "execution_count": 30,
     "metadata": {},
     "output_type": "execute_result"
    }
   ],
   "source": [
    "has_33([3,3,1])"
   ]
  },
  {
   "cell_type": "code",
   "execution_count": 34,
   "id": "dfe30c03",
   "metadata": {},
   "outputs": [
    {
     "name": "stdout",
     "output_type": "stream",
     "text": [
      "[1, 3, 3] 0\n",
      "[1, 3, 3] 1\n"
     ]
    },
    {
     "data": {
      "text/plain": [
       "True"
      ]
     },
     "execution_count": 34,
     "metadata": {},
     "output_type": "execute_result"
    }
   ],
   "source": [
    "has_33([1,3,3])"
   ]
  },
  {
   "cell_type": "code",
   "execution_count": 35,
   "id": "f72f2702",
   "metadata": {},
   "outputs": [
    {
     "name": "stdout",
     "output_type": "stream",
     "text": [
      "[1, 1, 1] 0\n",
      "[1, 1, 1] 1\n"
     ]
    },
    {
     "data": {
      "text/plain": [
       "False"
      ]
     },
     "execution_count": 35,
     "metadata": {},
     "output_type": "execute_result"
    }
   ],
   "source": [
    "has_33([1,1,1])"
   ]
  },
  {
   "cell_type": "markdown",
   "id": "90eaf8f4",
   "metadata": {},
   "source": [
    "PAPER DOLL: Given a string, return a string where for every character in the original there are three characters"
   ]
  },
  {
   "cell_type": "code",
   "execution_count": 37,
   "id": "5ce8e3a8",
   "metadata": {},
   "outputs": [
    {
     "name": "stdout",
     "output_type": "stream",
     "text": [
      "iii\n"
     ]
    }
   ],
   "source": [
    "print('i'*3)"
   ]
  },
  {
   "cell_type": "code",
   "execution_count": 46,
   "id": "6fd3d5d5",
   "metadata": {},
   "outputs": [],
   "source": [
    "def paperdoll(words):\n",
    "    new_name=\"\"\n",
    "    for i in range(len(words)):\n",
    "        new_name = new_name + \"\".join(words[i]*3)\n",
    "    print(new_name)    "
   ]
  },
  {
   "cell_type": "code",
   "execution_count": 48,
   "id": "1851a7bc",
   "metadata": {},
   "outputs": [
    {
     "name": "stdout",
     "output_type": "stream",
     "text": [
      "aaabbbccc\n"
     ]
    }
   ],
   "source": [
    "paperdoll(\"abc\")"
   ]
  },
  {
   "cell_type": "markdown",
   "id": "34dcf975",
   "metadata": {},
   "source": [
    "BLACKJACK: Given three integers between 1 and 11, if their sum is less than or equal to 21, return their sum. If their sum exceeds 21 and there's an eleven, reduce the total sum by 10. Finally, if the sum (even after adjustment) exceeds 21, return 'BUST'"
   ]
  },
  {
   "cell_type": "code",
   "execution_count": 80,
   "id": "dbcf5313",
   "metadata": {},
   "outputs": [],
   "source": [
    "def blackjack(*args):\n",
    "    sum = 0\n",
    "    for i in args:\n",
    "           sum += i\n",
    "    if sum < 21:\n",
    "           return sum\n",
    "    else:\n",
    "        if args[0] == 11 or args[1] == 11 or args[2] == 11:\n",
    "            sum -= 10\n",
    "            if sum < 21:\n",
    "                return sum\n",
    "            else:\n",
    "                return 'BUST'\n",
    "        else:\n",
    "            return 'BUST'\n",
    "            \n",
    "                \n"
   ]
  },
  {
   "cell_type": "code",
   "execution_count": 84,
   "id": "9d34a055",
   "metadata": {},
   "outputs": [
    {
     "data": {
      "text/plain": [
       "'BUST'"
      ]
     },
     "execution_count": 84,
     "metadata": {},
     "output_type": "execute_result"
    }
   ],
   "source": [
    "blackjack(9,11,11)"
   ]
  },
  {
   "cell_type": "code",
   "execution_count": 85,
   "id": "a93ce1bd",
   "metadata": {},
   "outputs": [
    {
     "data": {
      "text/plain": [
       "18"
      ]
     },
     "execution_count": 85,
     "metadata": {},
     "output_type": "execute_result"
    }
   ],
   "source": [
    "blackjack(5,6,7)"
   ]
  },
  {
   "cell_type": "code",
   "execution_count": 86,
   "id": "860c4dd7",
   "metadata": {},
   "outputs": [
    {
     "data": {
      "text/plain": [
       "'BUST'"
      ]
     },
     "execution_count": 86,
     "metadata": {},
     "output_type": "execute_result"
    }
   ],
   "source": [
    "blackjack(9,9,9)"
   ]
  },
  {
   "cell_type": "code",
   "execution_count": 87,
   "id": "290e2a0c",
   "metadata": {},
   "outputs": [
    {
     "data": {
      "text/plain": [
       "19"
      ]
     },
     "execution_count": 87,
     "metadata": {},
     "output_type": "execute_result"
    }
   ],
   "source": [
    "blackjack(9,9,11)"
   ]
  },
  {
   "cell_type": "markdown",
   "id": "9fa5c927",
   "metadata": {},
   "source": [
    "SUMMER OF '69: Return the sum of the numbers in the array, except ignore sections of numbers starting with a 6 and extending to the next 9 (every 6 will be followed by at least one 9). Return 0 for no number"
   ]
  },
  {
   "cell_type": "code",
   "execution_count": 98,
   "id": "bd17eeda",
   "metadata": {},
   "outputs": [],
   "source": [
    "def summer_69(nums):\n",
    "    sum = 0\n",
    "    for i in nums:\n",
    "        if i >= 6 and i <= 9:\n",
    "            sum += 0\n",
    "        else:\n",
    "            sum += i\n",
    "    return sum            "
   ]
  },
  {
   "cell_type": "code",
   "execution_count": 89,
   "id": "b0295a4b",
   "metadata": {},
   "outputs": [
    {
     "data": {
      "text/plain": [
       "9"
      ]
     },
     "execution_count": 89,
     "metadata": {},
     "output_type": "execute_result"
    }
   ],
   "source": [
    "summer_69([1, 3, 5])"
   ]
  },
  {
   "cell_type": "code",
   "execution_count": 102,
   "id": "9c8c3b3d",
   "metadata": {},
   "outputs": [
    {
     "data": {
      "text/plain": [
       "9"
      ]
     },
     "execution_count": 102,
     "metadata": {},
     "output_type": "execute_result"
    }
   ],
   "source": [
    "summer_69([4, 5, 6, 7, 8, 9])"
   ]
  },
  {
   "cell_type": "code",
   "execution_count": 99,
   "id": "c9b2b5a4",
   "metadata": {},
   "outputs": [
    {
     "data": {
      "text/plain": [
       "14"
      ]
     },
     "execution_count": 99,
     "metadata": {},
     "output_type": "execute_result"
    }
   ],
   "source": [
    "summer_69([2, 1, 6, 9, 11])"
   ]
  }
 ],
 "metadata": {
  "kernelspec": {
   "display_name": "Python 3 (ipykernel)",
   "language": "python",
   "name": "python3"
  },
  "language_info": {
   "codemirror_mode": {
    "name": "ipython",
    "version": 3
   },
   "file_extension": ".py",
   "mimetype": "text/x-python",
   "name": "python",
   "nbconvert_exporter": "python",
   "pygments_lexer": "ipython3",
   "version": "3.9.7"
  }
 },
 "nbformat": 4,
 "nbformat_minor": 5
}
