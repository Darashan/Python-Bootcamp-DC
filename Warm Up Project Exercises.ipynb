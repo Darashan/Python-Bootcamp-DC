{
 "cells": [
  {
   "cell_type": "markdown",
   "id": "0cb055af",
   "metadata": {},
   "source": [
    "Function to Display Information"
   ]
  },
  {
   "cell_type": "markdown",
   "id": "4656f458",
   "metadata": {},
   "source": [
    "Creating a function that displays a list for the user"
   ]
  },
  {
   "cell_type": "code",
   "execution_count": 1,
   "id": "6ffa8db8",
   "metadata": {},
   "outputs": [],
   "source": [
    "def display_list(mylist):\n",
    "    print(mylist)"
   ]
  },
  {
   "cell_type": "code",
   "execution_count": 2,
   "id": "eac9ee8a",
   "metadata": {},
   "outputs": [
    {
     "name": "stdout",
     "output_type": "stream",
     "text": [
      "[0, 1, 2, 3, 4, 5, 6, 7, 8, 9, 10, 11]\n"
     ]
    }
   ],
   "source": [
    "mylist = [0,1,2,3,4,5,6,7,8,9,10,11]\n",
    "display_list(mylist)"
   ]
  },
  {
   "cell_type": "markdown",
   "id": "aa2606b6",
   "metadata": {},
   "source": [
    "Accepting User Input"
   ]
  },
  {
   "cell_type": "markdown",
   "id": "ac9b8e64",
   "metadata": {},
   "source": [
    "Creating function that takes in an input from user and returns the result in the correct data type. Be careful when using the input() function, running that cell twice without providing an input value will cause python to get hung up waiting for the initial value on the first run. You will notice an In[*] next to the cell if it gets stuck, in which case, simply restart the kernel and re-run any necessary cells."
   ]
  },
  {
   "cell_type": "code",
   "execution_count": 5,
   "id": "1cb357be",
   "metadata": {},
   "outputs": [],
   "source": [
    "def user_choice():\n",
    "    \n",
    "    user = input('Please enter something: ')\n",
    "    if user.isdigit() == True:\n",
    "        user = int(user)\n",
    "    \n",
    "    return type(user)"
   ]
  },
  {
   "cell_type": "code",
   "execution_count": 6,
   "id": "896802ee",
   "metadata": {},
   "outputs": [
    {
     "name": "stdout",
     "output_type": "stream",
     "text": [
      "Please enter something: 45\n"
     ]
    },
    {
     "data": {
      "text/plain": [
       "int"
      ]
     },
     "execution_count": 6,
     "metadata": {},
     "output_type": "execute_result"
    }
   ],
   "source": [
    "user_choice()"
   ]
  },
  {
   "cell_type": "code",
   "execution_count": 7,
   "id": "5a4392f9",
   "metadata": {},
   "outputs": [
    {
     "name": "stdout",
     "output_type": "stream",
     "text": [
      "Please enter something: hello\n"
     ]
    },
    {
     "data": {
      "text/plain": [
       "str"
      ]
     },
     "execution_count": 7,
     "metadata": {},
     "output_type": "execute_result"
    }
   ],
   "source": [
    "user_choice()"
   ]
  },
  {
   "cell_type": "markdown",
   "id": "600aa3ad",
   "metadata": {},
   "source": [
    "Validating User Input"
   ]
  },
  {
   "cell_type": "markdown",
   "id": "3b96053f",
   "metadata": {},
   "source": [
    "Edit the function to confirm against an acceptable value or type"
   ]
  },
  {
   "cell_type": "code",
   "execution_count": 8,
   "id": "67e487eb",
   "metadata": {},
   "outputs": [],
   "source": [
    "def user_choice():\n",
    "    \n",
    "  \n",
    "    choice = 'wrong'\n",
    "    \n",
    "    while choice.isdigit() == False:\n",
    "        \n",
    "        choice = input(\"Choose a number: \")\n",
    "        \n",
    "        if choice.isdigit() == False:\n",
    "            print(\"Sorry, but you did not enter an integer. Please try again.\")\n",
    "    \n",
    "    return int(choice)"
   ]
  },
  {
   "cell_type": "code",
   "execution_count": 9,
   "id": "0e680a4b",
   "metadata": {},
   "outputs": [
    {
     "name": "stdout",
     "output_type": "stream",
     "text": [
      "Choose a number: 5t\n",
      "Sorry, but you did not enter an integer. Please try again.\n",
      "Choose a number: two\n",
      "Sorry, but you did not enter an integer. Please try again.\n",
      "Choose a number: 52\n"
     ]
    },
    {
     "data": {
      "text/plain": [
       "52"
      ]
     },
     "execution_count": 9,
     "metadata": {},
     "output_type": "execute_result"
    }
   ],
   "source": [
    "user_choice()"
   ]
  },
  {
   "cell_type": "markdown",
   "id": "c84569e6",
   "metadata": {},
   "source": [
    "'Clear' the output."
   ]
  },
  {
   "cell_type": "code",
   "execution_count": 10,
   "id": "1d1346c4",
   "metadata": {},
   "outputs": [],
   "source": [
    "from IPython.display import clear_output\n",
    "clear_output()"
   ]
  },
  {
   "cell_type": "code",
   "execution_count": 12,
   "id": "e2089fb9",
   "metadata": {},
   "outputs": [],
   "source": [
    "def user_choice():\n",
    "    \n",
    "    choice ='WRONG'\n",
    "    within_range = False\n",
    "    \n",
    "    while choice.isdigit() == False or within_range == False:\n",
    "        \n",
    "    \n",
    "    \n",
    "        choice = input(\"Please enter a number (0-10): \")\n",
    "        \n",
    "        if choice.isdigit() == False:\n",
    "            print(\"Sorry that is not a digit!\")\n",
    "            \n",
    "        if choice.isdigit() == True:\n",
    "            if int(choice) in range(0,10):\n",
    "                within_range = True\n",
    "            else:\n",
    "                within_range = False\n",
    "        \n",
    "    \n",
    "    return int(choice)"
   ]
  },
  {
   "cell_type": "code",
   "execution_count": 13,
   "id": "fba53b35",
   "metadata": {},
   "outputs": [
    {
     "name": "stdout",
     "output_type": "stream",
     "text": [
      "Please enter a number (0-10): 88\n",
      "Please enter a number (0-10): 8\n"
     ]
    },
    {
     "data": {
      "text/plain": [
       "8"
      ]
     },
     "execution_count": 13,
     "metadata": {},
     "output_type": "execute_result"
    }
   ],
   "source": [
    "user_choice()"
   ]
  },
  {
   "cell_type": "markdown",
   "id": "4fb75557",
   "metadata": {},
   "source": [
    "Simple User Interaction"
   ]
  },
  {
   "cell_type": "markdown",
   "id": "b9f5d14d",
   "metadata": {},
   "source": [
    "Finally let's combine all of these ideas to create a small game where a user can choose a \"position\" in an existing list and replace it with a value of their choice."
   ]
  },
  {
   "cell_type": "code",
   "execution_count": 37,
   "id": "6c71a67f",
   "metadata": {},
   "outputs": [],
   "source": [
    "game_list = ['0','1','2']"
   ]
  },
  {
   "cell_type": "code",
   "execution_count": 39,
   "id": "e25755a6",
   "metadata": {},
   "outputs": [],
   "source": [
    "def display_game(game_list):\n",
    "    print(\"Here is the current list ~\")\n",
    "    print(game_list)"
   ]
  },
  {
   "cell_type": "code",
   "execution_count": 40,
   "id": "4126c20e",
   "metadata": {},
   "outputs": [
    {
     "name": "stdout",
     "output_type": "stream",
     "text": [
      "Here is the current list ~\n",
      "['0', '1', '2']\n"
     ]
    }
   ],
   "source": [
    "display_game(game_list)"
   ]
  },
  {
   "cell_type": "code",
   "execution_count": 50,
   "id": "c818400b",
   "metadata": {},
   "outputs": [],
   "source": [
    "def position_choice():\n",
    "    \n",
    "    choice = 'wrong'\n",
    "    \n",
    "    while choice not in ['0','1','2']:\n",
    "        choice = input(\"Choose a position to change(0, 1, 2): \")\n",
    "        \n",
    "        if choice not in ['0','1','2']:\n",
    "            clear_output()\n",
    "            print(\"Sorry, but you did not choose a valid position (0, 1, 2)\")\n",
    "            \n",
    "    return int(choice)\n",
    "        "
   ]
  },
  {
   "cell_type": "code",
   "execution_count": 51,
   "id": "d371422e",
   "metadata": {},
   "outputs": [
    {
     "name": "stdout",
     "output_type": "stream",
     "text": [
      "Choose a position to change(0, 1, 2): 1\n"
     ]
    },
    {
     "data": {
      "text/plain": [
       "1"
      ]
     },
     "execution_count": 51,
     "metadata": {},
     "output_type": "execute_result"
    }
   ],
   "source": [
    "position_choice()"
   ]
  },
  {
   "cell_type": "code",
   "execution_count": 46,
   "id": "42482df5",
   "metadata": {},
   "outputs": [],
   "source": [
    "def replacement_choice(game_list, position):\n",
    "    user_placement = input(\"Type a string to place at the position: \")\n",
    "    game_list[position] = user_placement\n",
    "    \n",
    "    return game_list"
   ]
  },
  {
   "cell_type": "code",
   "execution_count": 47,
   "id": "08abe6ec",
   "metadata": {},
   "outputs": [
    {
     "name": "stdout",
     "output_type": "stream",
     "text": [
      "Type a string to place at the position: yolo\n"
     ]
    },
    {
     "data": {
      "text/plain": [
       "[0, 1, 'yolo']"
      ]
     },
     "execution_count": 47,
     "metadata": {},
     "output_type": "execute_result"
    }
   ],
   "source": [
    "replacement_choice([0,1,2], 2)"
   ]
  },
  {
   "cell_type": "code",
   "execution_count": 60,
   "id": "35cf9740",
   "metadata": {},
   "outputs": [],
   "source": [
    "def gameon_choice():\n",
    "    \n",
    "    choice = 'wrong'\n",
    "    \n",
    "    while choice not in ['Y', 'N', 'y', 'n']:\n",
    "        \n",
    "        choice = input(\"Would you like to keep playing? Y or N \")\n",
    "        \n",
    "        if choice not in ['Y', 'N', 'y', 'n']:\n",
    "            \n",
    "            clear_output()\n",
    "            \n",
    "            print(\"Sorry, please make sure to choose Y or N.\")\n",
    "        \n",
    "    if choice == 'Y' or choice == 'y':\n",
    "        return True\n",
    "    else:\n",
    "        return False\n",
    "    "
   ]
  },
  {
   "cell_type": "code",
   "execution_count": 61,
   "id": "65dfefa3",
   "metadata": {},
   "outputs": [
    {
     "name": "stdout",
     "output_type": "stream",
     "text": [
      "Would you like to keep playing? Y or N n\n"
     ]
    },
    {
     "data": {
      "text/plain": [
       "False"
      ]
     },
     "execution_count": 61,
     "metadata": {},
     "output_type": "execute_result"
    }
   ],
   "source": [
    "gameon_choice()"
   ]
  },
  {
   "cell_type": "code",
   "execution_count": 62,
   "id": "2b9ac8ce",
   "metadata": {},
   "outputs": [
    {
     "name": "stdout",
     "output_type": "stream",
     "text": [
      "Here is the current list ~\n",
      "[0, 1, 'heyo']\n",
      "Would you like to keep playing? Y or N N\n"
     ]
    }
   ],
   "source": [
    "game_on = True\n",
    "\n",
    "game_list = [0, 1, 2]\n",
    "\n",
    "while game_on:\n",
    "    \n",
    "    clear_output()\n",
    "    display_game(game_list)\n",
    "    \n",
    "    position = position_choice()\n",
    "    \n",
    "    game_list = replacement_choice(game_list, position)\n",
    "    \n",
    "    clear_output()\n",
    "    display_game(game_list)\n",
    "    \n",
    "    game_on = gameon_choice()\n",
    "    "
   ]
  }
 ],
 "metadata": {
  "kernelspec": {
   "display_name": "Python 3 (ipykernel)",
   "language": "python",
   "name": "python3"
  },
  "language_info": {
   "codemirror_mode": {
    "name": "ipython",
    "version": 3
   },
   "file_extension": ".py",
   "mimetype": "text/x-python",
   "name": "python",
   "nbconvert_exporter": "python",
   "pygments_lexer": "ipython3",
   "version": "3.9.7"
  }
 },
 "nbformat": 4,
 "nbformat_minor": 5
}
